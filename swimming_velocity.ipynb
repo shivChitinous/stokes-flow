{
 "cells": [
  {
   "cell_type": "markdown",
   "id": "cc724864-df4e-4e50-8adf-8f949c7493fa",
   "metadata": {},
   "source": [
    "# Swimming Velocity"
   ]
  },
  {
   "cell_type": "markdown",
   "id": "53e36afe-fadb-4934-8d48-74255382d691",
   "metadata": {},
   "source": [
    "We can finally get around to seeing how a Purcell swimmer behaves for different values of $\\eta$ and $\\phi$. "
   ]
  },
  {
   "cell_type": "code",
   "execution_count": 1,
   "id": "d1d4946f-a110-4188-b7a9-1afa46905506",
   "metadata": {},
   "outputs": [],
   "source": [
    "import numpy as np\n",
    "import scipy as sp\n",
    "import pandas as pd\n",
    "import matplotlib.pyplot as plt\n",
    "import seaborn as sns; sns.set(); sns.set_style(\"white\")\n",
    "import stokeslets as slts\n",
    "import purcell as pur"
   ]
  },
  {
   "cell_type": "code",
   "execution_count": 2,
   "id": "81dab3c8-d531-4776-a31d-65729541c988",
   "metadata": {},
   "outputs": [],
   "source": [
    "figfile = \"figs/\""
   ]
  },
  {
   "cell_type": "code",
   "execution_count": 3,
   "id": "fc130b1a-1f05-49bf-815e-e6ad85341496",
   "metadata": {},
   "outputs": [],
   "source": [
    "def velocity(pswimmer):\n",
    "    #assumes only pswimmer values for a single cycle were provided\n",
    "    v = np.mean(pswimmer[-1].T[0])\n",
    "    return v"
   ]
  },
  {
   "cell_type": "markdown",
   "id": "b1105d5c-4880-4524-8dbb-112aef1f74fc",
   "metadata": {},
   "source": [
    "Import $P_0$ values."
   ]
  },
  {
   "cell_type": "code",
   "execution_count": 4,
   "id": "439be19a-9a4a-4064-a6e4-aa5fd5fbe3f1",
   "metadata": {},
   "outputs": [
    {
     "data": {
      "text/html": [
       "<div>\n",
       "<style scoped>\n",
       "    .dataframe tbody tr th:only-of-type {\n",
       "        vertical-align: middle;\n",
       "    }\n",
       "\n",
       "    .dataframe tbody tr th {\n",
       "        vertical-align: top;\n",
       "    }\n",
       "\n",
       "    .dataframe thead th {\n",
       "        text-align: right;\n",
       "    }\n",
       "</style>\n",
       "<table border=\"1\" class=\"dataframe\">\n",
       "  <thead>\n",
       "    <tr style=\"text-align: right;\">\n",
       "      <th></th>\n",
       "      <th>0.06544984694978735</th>\n",
       "      <th>0.1308996938995747</th>\n",
       "      <th>0.19634954084936207</th>\n",
       "      <th>0.2617993877991494</th>\n",
       "      <th>0.32724923474893675</th>\n",
       "      <th>0.3926990816987241</th>\n",
       "      <th>0.4581489286485115</th>\n",
       "      <th>0.5235987755982988</th>\n",
       "      <th>0.5890486225480862</th>\n",
       "      <th>0.6544984694978736</th>\n",
       "      <th>...</th>\n",
       "      <th>0.9817477042468103</th>\n",
       "      <th>1.0471975511965976</th>\n",
       "      <th>1.112647398146385</th>\n",
       "      <th>1.1780972450961722</th>\n",
       "      <th>1.2435470920459597</th>\n",
       "      <th>1.308996938995747</th>\n",
       "      <th>1.3744467859455343</th>\n",
       "      <th>1.4398966328953218</th>\n",
       "      <th>1.505346479845109</th>\n",
       "      <th>1.5707963267948963</th>\n",
       "    </tr>\n",
       "  </thead>\n",
       "  <tbody>\n",
       "    <tr>\n",
       "      <th>2.0</th>\n",
       "      <td>0.0825</td>\n",
       "      <td>0.1657</td>\n",
       "      <td>0.2495</td>\n",
       "      <td>0.3337</td>\n",
       "      <td>0.4186</td>\n",
       "      <td>0.5038</td>\n",
       "      <td>0.5896</td>\n",
       "      <td>0.6778</td>\n",
       "      <td>0.7694</td>\n",
       "      <td>0.8642</td>\n",
       "      <td>...</td>\n",
       "      <td>1.3722</td>\n",
       "      <td>1.4776</td>\n",
       "      <td>1.5868</td>\n",
       "      <td>1.7026</td>\n",
       "      <td>1.8287</td>\n",
       "      <td>1.9632</td>\n",
       "      <td>2.1040</td>\n",
       "      <td>2.2378</td>\n",
       "      <td>2.3648</td>\n",
       "      <td>2.5188</td>\n",
       "    </tr>\n",
       "    <tr>\n",
       "      <th>1.8</th>\n",
       "      <td>0.0842</td>\n",
       "      <td>0.1692</td>\n",
       "      <td>0.2546</td>\n",
       "      <td>0.3407</td>\n",
       "      <td>0.4274</td>\n",
       "      <td>0.5148</td>\n",
       "      <td>0.6052</td>\n",
       "      <td>0.6999</td>\n",
       "      <td>0.7966</td>\n",
       "      <td>0.8940</td>\n",
       "      <td>...</td>\n",
       "      <td>1.3881</td>\n",
       "      <td>1.5038</td>\n",
       "      <td>1.6293</td>\n",
       "      <td>1.7628</td>\n",
       "      <td>1.9033</td>\n",
       "      <td>2.0513</td>\n",
       "      <td>2.2051</td>\n",
       "      <td>2.3785</td>\n",
       "      <td>2.5806</td>\n",
       "      <td>2.7358</td>\n",
       "    </tr>\n",
       "    <tr>\n",
       "      <th>2.2</th>\n",
       "      <td>0.0809</td>\n",
       "      <td>0.1625</td>\n",
       "      <td>0.2448</td>\n",
       "      <td>0.3275</td>\n",
       "      <td>0.4109</td>\n",
       "      <td>0.4948</td>\n",
       "      <td>0.5790</td>\n",
       "      <td>0.6641</td>\n",
       "      <td>0.7509</td>\n",
       "      <td>0.8399</td>\n",
       "      <td>...</td>\n",
       "      <td>1.3244</td>\n",
       "      <td>1.4299</td>\n",
       "      <td>1.5377</td>\n",
       "      <td>1.6477</td>\n",
       "      <td>1.7599</td>\n",
       "      <td>1.8805</td>\n",
       "      <td>2.0074</td>\n",
       "      <td>2.1356</td>\n",
       "      <td>2.2625</td>\n",
       "      <td>2.3742</td>\n",
       "    </tr>\n",
       "  </tbody>\n",
       "</table>\n",
       "<p>3 rows × 24 columns</p>\n",
       "</div>"
      ],
      "text/plain": [
       "     0.06544984694978735  0.1308996938995747  0.19634954084936207  \\\n",
       "2.0               0.0825              0.1657               0.2495   \n",
       "1.8               0.0842              0.1692               0.2546   \n",
       "2.2               0.0809              0.1625               0.2448   \n",
       "\n",
       "     0.2617993877991494  0.32724923474893675  0.3926990816987241  \\\n",
       "2.0              0.3337               0.4186              0.5038   \n",
       "1.8              0.3407               0.4274              0.5148   \n",
       "2.2              0.3275               0.4109              0.4948   \n",
       "\n",
       "     0.4581489286485115  0.5235987755982988  0.5890486225480862  \\\n",
       "2.0              0.5896              0.6778              0.7694   \n",
       "1.8              0.6052              0.6999              0.7966   \n",
       "2.2              0.5790              0.6641              0.7509   \n",
       "\n",
       "     0.6544984694978736  ...  0.9817477042468103  1.0471975511965976  \\\n",
       "2.0              0.8642  ...              1.3722              1.4776   \n",
       "1.8              0.8940  ...              1.3881              1.5038   \n",
       "2.2              0.8399  ...              1.3244              1.4299   \n",
       "\n",
       "     1.112647398146385  1.1780972450961722  1.2435470920459597  \\\n",
       "2.0             1.5868              1.7026              1.8287   \n",
       "1.8             1.6293              1.7628              1.9033   \n",
       "2.2             1.5377              1.6477              1.7599   \n",
       "\n",
       "     1.308996938995747  1.3744467859455343  1.4398966328953218  \\\n",
       "2.0             1.9632              2.1040              2.2378   \n",
       "1.8             2.0513              2.2051              2.3785   \n",
       "2.2             1.8805              2.0074              2.1356   \n",
       "\n",
       "     1.505346479845109  1.5707963267948963  \n",
       "2.0             2.3648              2.5188  \n",
       "1.8             2.5806              2.7358  \n",
       "2.2             2.2625              2.3742  \n",
       "\n",
       "[3 rows x 24 columns]"
      ]
     },
     "execution_count": 4,
     "metadata": {},
     "output_type": "execute_result"
    }
   ],
   "source": [
    "Tau = pd.read_csv(\"P0.csv\", index_col=0); Tau"
   ]
  },
  {
   "cell_type": "code",
   "execution_count": 5,
   "id": "d771ca39-2378-4420-9cc7-84217d960215",
   "metadata": {},
   "outputs": [],
   "source": [
    "Phi = np.array(Tau.columns).astype('float')\n",
    "Eta = np.array(Tau.index).astype('float')"
   ]
  },
  {
   "cell_type": "markdown",
   "id": "d0a346fc-c2f8-40fa-ac35-1ce846bff965",
   "metadata": {},
   "source": [
    "Sample over $\\phi$ and $\\eta$ values and generate net displacement of the swimmer in the X-direction after 1 cycle."
   ]
  },
  {
   "cell_type": "code",
   "execution_count": 6,
   "id": "2a09dea6-868c-4d88-9d59-c1fcfaf74fe2",
   "metadata": {},
   "outputs": [],
   "source": [
    "Vel = Tau.copy()\n",
    "for eti in range(np.size(Eta)):\n",
    "    for phi in range(np.size(Phi)):\n",
    "        s,r,tim = pur.init(Eta[eti],Phi[phi],T=8)\n",
    "        tau = pur.stroke_input(Tau.iloc[eti,phi],tim,r,strokes=1)\n",
    "        R = slts.mesher(np.arange(-1.5, 1.5, 0.1))\n",
    "        _,pswimmer = slts.evolve(tau,tim,R,r,s,k=100,e=0.3,c=0.6)\n",
    "        Vel.iloc[eti,phi] = velocity(pswimmer)"
   ]
  },
  {
   "cell_type": "code",
   "execution_count": 7,
   "id": "b5a76ef9-fcd2-4e1e-a42b-4e2b64269133",
   "metadata": {},
   "outputs": [
    {
     "data": {
      "image/png": "[encoded data removed]",
      "text/plain": [
       "<Figure size 432x288 with 1 Axes>"
      ]
     },
     "metadata": {},
     "output_type": "display_data"
    }
   ],
   "source": [
    "plt.figure(figsize = (6,4))\n",
    "Eta = np.sort(Eta)\n",
    "for i,et in enumerate(Eta):\n",
    "    plt.plot(Phi,Vel.loc[et,:],'o--')\n",
    "plt.legend(Eta,title=\"$\\eta$\")\n",
    "plt.xlabel('$\\phi \\ (rad)$')\n",
    "plt.ylabel(r'$\\dfrac{\\Delta X_{CoM}}{cycle} \\ \\ (a.u.)$')\n",
    "plt.savefig(figfile+\"purcell_velocities.png\",dpi=300,bbox_inches = 'tight')\n",
    "plt.show()"
   ]
  }
 ],
 "metadata": {
  "kernelspec": {
   "display_name": "Python 3",
   "language": "python",
   "name": "python3"
  },
  "language_info": {
   "codemirror_mode": {
    "name": "ipython",
    "version": 3
   },
   "file_extension": ".py",
   "mimetype": "text/x-python",
   "name": "python",
   "nbconvert_exporter": "python",
   "pygments_lexer": "ipython3",
   "version": "3.9.4"
  }
 },
 "nbformat": 4,
 "nbformat_minor": 5
}
