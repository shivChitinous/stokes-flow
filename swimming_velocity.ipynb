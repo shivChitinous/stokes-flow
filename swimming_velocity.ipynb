{
 "cells": [
  {
   "cell_type": "markdown",
   "id": "cc724864-df4e-4e50-8adf-8f949c7493fa",
   "metadata": {},
   "source": [
    "# Swimming Velocity"
   ]
  },
  {
   "cell_type": "markdown",
   "id": "53e36afe-fadb-4934-8d48-74255382d691",
   "metadata": {},
   "source": [
    "We can finally get around to seeing how a Purcell swimmer behaves for different values of $\\eta$ and $\\phi$. "
   ]
  },
  {
   "cell_type": "code",
   "execution_count": 1,
   "id": "d1d4946f-a110-4188-b7a9-1afa46905506",
   "metadata": {},
   "outputs": [],
   "source": [
    "import numpy as np\n",
    "import scipy as sp\n",
    "import pandas as pd\n",
    "import matplotlib.pyplot as plt\n",
    "import seaborn as sns; sns.set(); sns.set_style(\"white\")\n",
    "import stokeslets as slts\n",
    "import purcell as pur"
   ]
  },
  {
   "cell_type": "code",
   "execution_count": 2,
   "id": "81dab3c8-d531-4776-a31d-65729541c988",
   "metadata": {},
   "outputs": [],
   "source": [
    "figfile = \"figs/\""
   ]
  },
  {
   "cell_type": "code",
   "execution_count": 3,
   "id": "fc130b1a-1f05-49bf-815e-e6ad85341496",
   "metadata": {},
   "outputs": [],
   "source": [
    "def velocity(pswimmer):\n",
    "    #assumes only pswimmer values for a single cycle were provided\n",
    "    v = np.mean(pswimmer[-1].T[0])\n",
    "    return v"
   ]
  },
  {
   "cell_type": "markdown",
   "id": "b1105d5c-4880-4524-8dbb-112aef1f74fc",
   "metadata": {},
   "source": [
    "Import $P_0$ values."
   ]
  },
  {
   "cell_type": "code",
   "execution_count": 4,
   "id": "439be19a-9a4a-4064-a6e4-aa5fd5fbe3f1",
   "metadata": {},
   "outputs": [
    {
     "data": {
      "text/html": [
       "<div>\n",
       "<style scoped>\n",
       "    .dataframe tbody tr th:only-of-type {\n",
       "        vertical-align: middle;\n",
       "    }\n",
       "\n",
       "    .dataframe tbody tr th {\n",
       "        vertical-align: top;\n",
       "    }\n",
       "\n",
       "    .dataframe thead th {\n",
       "        text-align: right;\n",
       "    }\n",
       "</style>\n",
       "<table border=\"1\" class=\"dataframe\">\n",
       "  <thead>\n",
       "    <tr style=\"text-align: right;\">\n",
       "      <th></th>\n",
       "      <th>0.06544984694978735</th>\n",
       "      <th>0.1308996938995747</th>\n",
       "      <th>0.19634954084936207</th>\n",
       "      <th>0.2617993877991494</th>\n",
       "      <th>0.32724923474893675</th>\n",
       "      <th>0.3926990816987241</th>\n",
       "      <th>0.4581489286485115</th>\n",
       "      <th>0.5235987755982988</th>\n",
       "      <th>0.5890486225480862</th>\n",
       "      <th>0.6544984694978736</th>\n",
       "      <th>...</th>\n",
       "      <th>0.9817477042468103</th>\n",
       "      <th>1.0471975511965976</th>\n",
       "      <th>1.112647398146385</th>\n",
       "      <th>1.1780972450961722</th>\n",
       "      <th>1.2435470920459597</th>\n",
       "      <th>1.308996938995747</th>\n",
       "      <th>1.3744467859455343</th>\n",
       "      <th>1.4398966328953218</th>\n",
       "      <th>1.505346479845109</th>\n",
       "      <th>1.5707963267948963</th>\n",
       "    </tr>\n",
       "  </thead>\n",
       "  <tbody>\n",
       "    <tr>\n",
       "      <th>2.0</th>\n",
       "      <td>0.081522</td>\n",
       "      <td>0.163896</td>\n",
       "      <td>0.246763</td>\n",
       "      <td>0.330128</td>\n",
       "      <td>0.414359</td>\n",
       "      <td>0.498971</td>\n",
       "      <td>0.583869</td>\n",
       "      <td>0.671173</td>\n",
       "      <td>0.761676</td>\n",
       "      <td>0.855290</td>\n",
       "      <td>...</td>\n",
       "      <td>1.359881</td>\n",
       "      <td>1.463722</td>\n",
       "      <td>1.571311</td>\n",
       "      <td>1.685704</td>\n",
       "      <td>1.812352</td>\n",
       "      <td>1.943974</td>\n",
       "      <td>2.077370</td>\n",
       "      <td>2.208420</td>\n",
       "      <td>2.349472</td>\n",
       "      <td>2.493022</td>\n",
       "    </tr>\n",
       "    <tr>\n",
       "      <th>1.8</th>\n",
       "      <td>0.083310</td>\n",
       "      <td>0.167471</td>\n",
       "      <td>0.252019</td>\n",
       "      <td>0.337295</td>\n",
       "      <td>0.423398</td>\n",
       "      <td>0.510149</td>\n",
       "      <td>0.599817</td>\n",
       "      <td>0.693857</td>\n",
       "      <td>0.789109</td>\n",
       "      <td>0.885657</td>\n",
       "      <td>...</td>\n",
       "      <td>1.379046</td>\n",
       "      <td>1.495794</td>\n",
       "      <td>1.621349</td>\n",
       "      <td>1.754541</td>\n",
       "      <td>1.891847</td>\n",
       "      <td>2.031458</td>\n",
       "      <td>2.174824</td>\n",
       "      <td>2.338158</td>\n",
       "      <td>2.521690</td>\n",
       "      <td>2.697990</td>\n",
       "    </tr>\n",
       "    <tr>\n",
       "      <th>2.2</th>\n",
       "      <td>0.079874</td>\n",
       "      <td>0.160599</td>\n",
       "      <td>0.241957</td>\n",
       "      <td>0.323762</td>\n",
       "      <td>0.406547</td>\n",
       "      <td>0.489964</td>\n",
       "      <td>0.573387</td>\n",
       "      <td>0.657209</td>\n",
       "      <td>0.742795</td>\n",
       "      <td>0.830636</td>\n",
       "      <td>...</td>\n",
       "      <td>1.312625</td>\n",
       "      <td>1.415621</td>\n",
       "      <td>1.520405</td>\n",
       "      <td>1.627199</td>\n",
       "      <td>1.737018</td>\n",
       "      <td>1.857081</td>\n",
       "      <td>1.983884</td>\n",
       "      <td>2.106214</td>\n",
       "      <td>2.225595</td>\n",
       "      <td>2.340942</td>\n",
       "    </tr>\n",
       "  </tbody>\n",
       "</table>\n",
       "<p>3 rows × 24 columns</p>\n",
       "</div>"
      ],
      "text/plain": [
       "     0.06544984694978735  0.1308996938995747  0.19634954084936207  \\\n",
       "2.0             0.081522            0.163896             0.246763   \n",
       "1.8             0.083310            0.167471             0.252019   \n",
       "2.2             0.079874            0.160599             0.241957   \n",
       "\n",
       "     0.2617993877991494  0.32724923474893675  0.3926990816987241  \\\n",
       "2.0            0.330128             0.414359            0.498971   \n",
       "1.8            0.337295             0.423398            0.510149   \n",
       "2.2            0.323762             0.406547            0.489964   \n",
       "\n",
       "     0.4581489286485115  0.5235987755982988  0.5890486225480862  \\\n",
       "2.0            0.583869            0.671173            0.761676   \n",
       "1.8            0.599817            0.693857            0.789109   \n",
       "2.2            0.573387            0.657209            0.742795   \n",
       "\n",
       "     0.6544984694978736  ...  0.9817477042468103  1.0471975511965976  \\\n",
       "2.0            0.855290  ...            1.359881            1.463722   \n",
       "1.8            0.885657  ...            1.379046            1.495794   \n",
       "2.2            0.830636  ...            1.312625            1.415621   \n",
       "\n",
       "     1.112647398146385  1.1780972450961722  1.2435470920459597  \\\n",
       "2.0           1.571311            1.685704            1.812352   \n",
       "1.8           1.621349            1.754541            1.891847   \n",
       "2.2           1.520405            1.627199            1.737018   \n",
       "\n",
       "     1.308996938995747  1.3744467859455343  1.4398966328953218  \\\n",
       "2.0           1.943974            2.077370            2.208420   \n",
       "1.8           2.031458            2.174824            2.338158   \n",
       "2.2           1.857081            1.983884            2.106214   \n",
       "\n",
       "     1.505346479845109  1.5707963267948963  \n",
       "2.0           2.349472            2.493022  \n",
       "1.8           2.521690            2.697990  \n",
       "2.2           2.225595            2.340942  \n",
       "\n",
       "[3 rows x 24 columns]"
      ]
     },
     "execution_count": 4,
     "metadata": {},
     "output_type": "execute_result"
    }
   ],
   "source": [
    "Tau = pd.read_csv(\"P0.csv\", index_col=0); Tau"
   ]
  },
  {
   "cell_type": "code",
   "execution_count": 5,
   "id": "d771ca39-2378-4420-9cc7-84217d960215",
   "metadata": {},
   "outputs": [],
   "source": [
    "Phi = np.array(Tau.columns).astype('float')\n",
    "Eta = np.array(Tau.index).astype('float')"
   ]
  },
  {
   "cell_type": "markdown",
   "id": "d0a346fc-c2f8-40fa-ac35-1ce846bff965",
   "metadata": {},
   "source": [
    "Sample over $\\phi$ and $\\eta$ values and generate net displacement of the swimmer in the X-direction after 1 cycle."
   ]
  },
  {
   "cell_type": "code",
   "execution_count": 6,
   "id": "2a09dea6-868c-4d88-9d59-c1fcfaf74fe2",
   "metadata": {},
   "outputs": [],
   "source": [
    "Vel = Tau.copy()\n",
    "for eti in range(np.size(Eta)):\n",
    "    for phi in range(np.size(Phi)):\n",
    "        s,r,tim = pur.init(Eta[eti],Phi[phi],T=8)\n",
    "        tau = pur.stroke_input(Tau.iloc[eti,phi],tim,r,strokes=1)\n",
    "        R = slts.mesher(np.arange(-1.5, 1.5, 0.1))\n",
    "        _,pswimmer = slts.evolve(tau,tim,R,r,s,k=100,e=0.3,c=0.6)\n",
    "        Vel.iloc[eti,phi] = velocity(pswimmer)"
   ]
  },
  {
   "cell_type": "code",
   "execution_count": 7,
   "id": "b5a76ef9-fcd2-4e1e-a42b-4e2b64269133",
   "metadata": {},
   "outputs": [
    {
     "data": {
      "image/png": "[encoded data removed]",
      "text/plain": [
       "<Figure size 432x288 with 1 Axes>"
      ]
     },
     "metadata": {},
     "output_type": "display_data"
    }
   ],
   "source": [
    "plt.figure(figsize = (6,4))\n",
    "Eta = np.sort(Eta)\n",
    "for i,et in enumerate(Eta):\n",
    "    plt.plot(Phi,Vel.loc[et,:],'o--')\n",
    "plt.legend(Eta,title=\"$\\eta$\")\n",
    "plt.xlabel('$\\phi \\ (rad)$')\n",
    "plt.ylabel(r'$\\dfrac{\\Delta X_{CoM}}{cycle} \\ \\ (a.u.)$')\n",
    "plt.savefig(figfile+\"purcell_velocities.png\",dpi=300,bbox_inches = 'tight')\n",
    "plt.show()"
   ]
  }
 ],
 "metadata": {
  "kernelspec": {
   "display_name": "Python 3",
   "language": "python",
   "name": "python3"
  },
  "language_info": {
   "codemirror_mode": {
    "name": "ipython",
    "version": 3
   },
   "file_extension": ".py",
   "mimetype": "text/x-python",
   "name": "python",
   "nbconvert_exporter": "python",
   "pygments_lexer": "ipython3",
   "version": "3.9.4"
  }
 },
 "nbformat": 4,
 "nbformat_minor": 5
}
